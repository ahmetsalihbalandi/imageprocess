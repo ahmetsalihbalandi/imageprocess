{
 "cells": [
  {
   "cell_type": "code",
   "execution_count": 1,
   "metadata": {},
   "outputs": [],
   "source": [
    "import numpy as np"
   ]
  },
  {
   "cell_type": "code",
   "execution_count": 2,
   "metadata": {},
   "outputs": [],
   "source": [
    "listem=[1,2,3,4,5]"
   ]
  },
  {
   "cell_type": "code",
   "execution_count": 3,
   "metadata": {},
   "outputs": [
    {
     "data": {
      "text/plain": [
       "list"
      ]
     },
     "execution_count": 3,
     "metadata": {},
     "output_type": "execute_result"
    }
   ],
   "source": [
    "type(listem)"
   ]
  },
  {
   "cell_type": "code",
   "execution_count": 4,
   "metadata": {},
   "outputs": [
    {
     "data": {
      "text/plain": [
       "array([1, 2, 3, 4, 5])"
      ]
     },
     "execution_count": 4,
     "metadata": {},
     "output_type": "execute_result"
    }
   ],
   "source": [
    "np.array(listem)"
   ]
  },
  {
   "cell_type": "code",
   "execution_count": 9,
   "metadata": {},
   "outputs": [],
   "source": [
    "mat=np.arange(0,130).reshape(10,13)"
   ]
  },
  {
   "cell_type": "code",
   "execution_count": 10,
   "metadata": {},
   "outputs": [
    {
     "data": {
      "text/plain": [
       "array([[  0,   1,   2,   3,   4,   5,   6,   7,   8,   9,  10,  11,  12],\n",
       "       [ 13,  14,  15,  16,  17,  18,  19,  20,  21,  22,  23,  24,  25],\n",
       "       [ 26,  27,  28,  29,  30,  31,  32,  33,  34,  35,  36,  37,  38],\n",
       "       [ 39,  40,  41,  42,  43,  44,  45,  46,  47,  48,  49,  50,  51],\n",
       "       [ 52,  53,  54,  55,  56,  57,  58,  59,  60,  61,  62,  63,  64],\n",
       "       [ 65,  66,  67,  68,  69,  70,  71,  72,  73,  74,  75,  76,  77],\n",
       "       [ 78,  79,  80,  81,  82,  83,  84,  85,  86,  87,  88,  89,  90],\n",
       "       [ 91,  92,  93,  94,  95,  96,  97,  98,  99, 100, 101, 102, 103],\n",
       "       [104, 105, 106, 107, 108, 109, 110, 111, 112, 113, 114, 115, 116],\n",
       "       [117, 118, 119, 120, 121, 122, 123, 124, 125, 126, 127, 128, 129]])"
      ]
     },
     "execution_count": 10,
     "metadata": {},
     "output_type": "execute_result"
    }
   ],
   "source": [
    "mat"
   ]
  },
  {
   "cell_type": "code",
   "execution_count": 12,
   "metadata": {},
   "outputs": [],
   "source": [
    "row=3\n",
    "col=3"
   ]
  },
  {
   "cell_type": "code",
   "execution_count": 14,
   "metadata": {},
   "outputs": [],
   "source": [
    "mat[row,col]=54"
   ]
  },
  {
   "cell_type": "code",
   "execution_count": 15,
   "metadata": {},
   "outputs": [
    {
     "data": {
      "text/plain": [
       "array([[  0,   1,   2,   3,   4,   5,   6,   7,   8,   9,  10,  11,  12],\n",
       "       [ 13,  14,  15,  16,  17,  18,  19,  20,  21,  22,  23,  24,  25],\n",
       "       [ 26,  27,  28,  29,  30,  31,  32,  33,  34,  35,  36,  37,  38],\n",
       "       [ 39,  40,  41,  54,  43,  44,  45,  46,  47,  48,  49,  50,  51],\n",
       "       [ 52,  53,  54,  55,  56,  57,  58,  59,  60,  61,  62,  63,  64],\n",
       "       [ 65,  66,  67,  68,  69,  70,  71,  72,  73,  74,  75,  76,  77],\n",
       "       [ 78,  79,  80,  81,  82,  83,  84,  85,  86,  87,  88,  89,  90],\n",
       "       [ 91,  92,  93,  94,  95,  96,  97,  98,  99, 100, 101, 102, 103],\n",
       "       [104, 105, 106, 107, 108, 109, 110, 111, 112, 113, 114, 115, 116],\n",
       "       [117, 118, 119, 120, 121, 122, 123, 124, 125, 126, 127, 128, 129]])"
      ]
     },
     "execution_count": 15,
     "metadata": {},
     "output_type": "execute_result"
    }
   ],
   "source": [
    "mat"
   ]
  },
  {
   "cell_type": "code",
   "execution_count": null,
   "metadata": {},
   "outputs": [],
   "source": []
  },
  {
   "cell_type": "code",
   "execution_count": null,
   "metadata": {},
   "outputs": [],
   "source": []
  },
  {
   "cell_type": "code",
   "execution_count": null,
   "metadata": {},
   "outputs": [],
   "source": []
  }
 ],
 "metadata": {
  "kernelspec": {
   "display_name": "Python 3",
   "language": "python",
   "name": "python3"
  },
  "language_info": {
   "codemirror_mode": {
    "name": "ipython",
    "version": 3
   },
   "file_extension": ".py",
   "mimetype": "text/x-python",
   "name": "python",
   "nbconvert_exporter": "python",
   "pygments_lexer": "ipython3",
   "version": "3.6.6"
  }
 },
 "nbformat": 4,
 "nbformat_minor": 5
}
